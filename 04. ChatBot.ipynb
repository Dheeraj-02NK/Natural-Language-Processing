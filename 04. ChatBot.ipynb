{
 "cells": [
  {
   "cell_type": "markdown",
   "id": "cd1c1e19",
   "metadata": {},
   "source": [
    "# Creating a chat bot using OpenAI API"
   ]
  },
  {
   "cell_type": "code",
   "execution_count": null,
   "id": "186d8d2d",
   "metadata": {},
   "outputs": [],
   "source": [
    "!pip install openai"
   ]
  },
  {
   "cell_type": "code",
   "execution_count": null,
   "id": "574c48ee",
   "metadata": {},
   "outputs": [],
   "source": [
    "import tkinter as tk\n",
    "import openai"
   ]
  },
  {
   "cell_type": "code",
   "execution_count": null,
   "id": "e3f2bc93",
   "metadata": {},
   "outputs": [],
   "source": [
    "# Set up your OpenAI API credentials\n",
    "openai.api_key = 'API_KEY'\n",
    "\n",
    "# Create a Tkinter window\n",
    "window = tk.Tk()\n",
    "window.title(\"Chatbot\")\n",
    "\n",
    "# Create a text widget for displaying the conversation\n",
    "conversation = tk.Text(window, height=20, width=50)\n",
    "conversation.pack()\n",
    "\n",
    "# Function to generate a response from OpenAI\n",
    "def generate_response(user_input):\n",
    "    response = openai.Completion.create(\n",
    "        engine='davinci',\n",
    "        prompt=user_input,\n",
    "        max_tokens=50,\n",
    "        temperature=0.7,\n",
    "        n=1,\n",
    "        stop=None,\n",
    "        echo=False\n",
    "    )\n",
    "    return response.choices[0].text.strip()\n",
    "\n",
    "# Function to handle user input\n",
    "def handle_user_input(event):\n",
    "    user_input = input_field.get()\n",
    "    conversation.insert(tk.END, \"User: \" + user_input + \"\\n\")\n",
    "    conversation.see(tk.END)\n",
    "    input_field.delete(0, tk.END)\n",
    "    response = generate_response(user_input)\n",
    "    conversation.insert(tk.END, \"Chatbot: \" + response + \"\\n\")\n",
    "    conversation.see(tk.END)\n",
    "\n",
    "# Create an input field for user input\n",
    "input_field = tk.Entry(window, width=50)\n",
    "input_field.pack()\n",
    "input_field.bind(\"<Return>\", handle_user_input)\n",
    "\n",
    "# Start the Tkinter event loop\n",
    "window.mainloop()\n"
   ]
  },
  {
   "cell_type": "code",
   "execution_count": null,
   "id": "344077a0",
   "metadata": {},
   "outputs": [],
   "source": []
  },
  {
   "cell_type": "code",
   "execution_count": null,
   "id": "a35541f8",
   "metadata": {},
   "outputs": [],
   "source": []
  }
 ],
 "metadata": {
  "kernelspec": {
   "display_name": "Python 3 (ipykernel)",
   "language": "python",
   "name": "python3"
  },
  "language_info": {
   "codemirror_mode": {
    "name": "ipython",
    "version": 3
   },
   "file_extension": ".py",
   "mimetype": "text/x-python",
   "name": "python",
   "nbconvert_exporter": "python",
   "pygments_lexer": "ipython3",
   "version": "3.9.13"
  }
 },
 "nbformat": 4,
 "nbformat_minor": 5
}
