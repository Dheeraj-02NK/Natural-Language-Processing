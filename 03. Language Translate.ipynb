{
 "cells": [
  {
   "cell_type": "code",
   "execution_count": null,
   "id": "2e695767",
   "metadata": {},
   "outputs": [],
   "source": [
    "!pip install translate"
   ]
  },
  {
   "cell_type": "code",
   "execution_count": 10,
   "id": "db912d6e",
   "metadata": {},
   "outputs": [],
   "source": [
    "from translate import Translator"
   ]
  },
  {
   "cell_type": "code",
   "execution_count": 11,
   "id": "b7542ff6",
   "metadata": {},
   "outputs": [
    {
     "name": "stdout",
     "output_type": "stream",
     "text": [
      "enter your language Kannada\n"
     ]
    }
   ],
   "source": [
    "lan = input(\"enter your language \")"
   ]
  },
  {
   "cell_type": "code",
   "execution_count": 12,
   "id": "bf9953d3",
   "metadata": {},
   "outputs": [
    {
     "name": "stdout",
     "output_type": "stream",
     "text": [
      "enter the converted language:English\n"
     ]
    }
   ],
   "source": [
    "convert_lan = input(\"enter the converted language:\")"
   ]
  },
  {
   "cell_type": "code",
   "execution_count": 27,
   "id": "0188a781",
   "metadata": {},
   "outputs": [
    {
     "name": "stdout",
     "output_type": "stream",
     "text": [
      "enter words to convert into English:ನೀವು ಹೇಗಿದ್ದೀರಿ ಧೀರಜ್\n"
     ]
    }
   ],
   "source": [
    "words = input(\"enter words to convert into \"+convert_lan+\":\")"
   ]
  },
  {
   "cell_type": "code",
   "execution_count": 28,
   "id": "071c9c61",
   "metadata": {},
   "outputs": [],
   "source": [
    "trans = Translator(from_lang = lan,to_lang = convert_lan)"
   ]
  },
  {
   "cell_type": "code",
   "execution_count": 29,
   "id": "0836f5f3",
   "metadata": {},
   "outputs": [],
   "source": [
    "t = trans.translate(words)"
   ]
  },
  {
   "cell_type": "code",
   "execution_count": 30,
   "id": "125d8fba",
   "metadata": {},
   "outputs": [
    {
     "name": "stdout",
     "output_type": "stream",
     "text": [
      "how are you\n"
     ]
    }
   ],
   "source": [
    "print(t)"
   ]
  },
  {
   "cell_type": "code",
   "execution_count": 33,
   "id": "94293b90",
   "metadata": {},
   "outputs": [],
   "source": []
  },
  {
   "cell_type": "code",
   "execution_count": null,
   "id": "4fd7d9ed",
   "metadata": {},
   "outputs": [],
   "source": []
  }
 ],
 "metadata": {
  "kernelspec": {
   "display_name": "Python 3 (ipykernel)",
   "language": "python",
   "name": "python3"
  },
  "language_info": {
   "codemirror_mode": {
    "name": "ipython",
    "version": 3
   },
   "file_extension": ".py",
   "mimetype": "text/x-python",
   "name": "python",
   "nbconvert_exporter": "python",
   "pygments_lexer": "ipython3",
   "version": "3.9.13"
  }
 },
 "nbformat": 4,
 "nbformat_minor": 5
}
