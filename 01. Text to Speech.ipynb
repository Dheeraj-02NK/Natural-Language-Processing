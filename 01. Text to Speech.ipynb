{
 "cells": [
  {
   "cell_type": "code",
   "execution_count": 2,
   "id": "538473a7",
   "metadata": {
    "id": "538473a7",
    "outputId": "76c7b54a-77a5-428f-ae12-766f6a9f7a15",
    "scrolled": false
   },
   "outputs": [
    {
     "name": "stdout",
     "output_type": "stream",
     "text": [
      "Requirement already satisfied: pyttsx3 in e:\\anaconds\\lib\\site-packages (2.90)\n",
      "Requirement already satisfied: pywin32 in e:\\anaconds\\lib\\site-packages (from pyttsx3) (302)\n",
      "Requirement already satisfied: pypiwin32 in e:\\anaconds\\lib\\site-packages (from pyttsx3) (223)\n",
      "Requirement already satisfied: comtypes in e:\\anaconds\\lib\\site-packages (from pyttsx3) (1.1.10)\n"
     ]
    },
    {
     "name": "stderr",
     "output_type": "stream",
     "text": [
      "WARNING: Ignoring invalid distribution -otebook (e:\\anaconds\\lib\\site-packages)\n",
      "WARNING: Ignoring invalid distribution -otebook (e:\\anaconds\\lib\\site-packages)\n",
      "WARNING: Ignoring invalid distribution -otebook (e:\\anaconds\\lib\\site-packages)\n",
      "WARNING: Ignoring invalid distribution -otebook (e:\\anaconds\\lib\\site-packages)\n",
      "WARNING: Ignoring invalid distribution -otebook (e:\\anaconds\\lib\\site-packages)\n",
      "WARNING: Ignoring invalid distribution -otebook (e:\\anaconds\\lib\\site-packages)\n"
     ]
    }
   ],
   "source": [
    "!pip install pyttsx3"
   ]
  },
  {
   "cell_type": "code",
   "execution_count": 1,
   "id": "0435f951",
   "metadata": {},
   "outputs": [
    {
     "name": "stdout",
     "output_type": "stream",
     "text": [
      "Enter the text you want to convert to speech: hello world\n"
     ]
    }
   ],
   "source": [
    "import pyttsx3\n",
    "\n",
    "def text_to_speech(text):\n",
    "    # Initialize the text-to-speech engine\n",
    "    engine = pyttsx3.init()\n",
    "    \n",
    "    # Set properties (optional)\n",
    "    # engine.setProperty('rate', 150)  # Speed of speech (words per minute)\n",
    "    # engine.setProperty('volume', 1.0)  # Volume level (0.0 to 1.0)\n",
    "\n",
    "    # Convert text to speech\n",
    "    engine.say(text)\n",
    "    \n",
    "    # Wait for the speech to finish\n",
    "    engine.runAndWait()\n",
    "\n",
    "if __name__ == \"__main__\":\n",
    "    text = input(\"Enter the text you want to convert to speech: \")\n",
    "    text_to_speech(text)"
   ]
  },
  {
   "cell_type": "code",
   "execution_count": null,
   "id": "a2cb429a",
   "metadata": {
    "id": "a2cb429a"
   },
   "outputs": [],
   "source": []
  },
  {
   "cell_type": "code",
   "execution_count": null,
   "id": "c9f96c0a",
   "metadata": {
    "id": "c9f96c0a"
   },
   "outputs": [],
   "source": []
  }
 ],
 "metadata": {
  "colab": {
   "provenance": []
  },
  "kernelspec": {
   "display_name": "Python 3 (ipykernel)",
   "language": "python",
   "name": "python3"
  },
  "language_info": {
   "codemirror_mode": {
    "name": "ipython",
    "version": 3
   },
   "file_extension": ".py",
   "mimetype": "text/x-python",
   "name": "python",
   "nbconvert_exporter": "python",
   "pygments_lexer": "ipython3",
   "version": "3.9.13"
  }
 },
 "nbformat": 4,
 "nbformat_minor": 5
}
